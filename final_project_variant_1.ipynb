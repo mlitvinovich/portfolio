{
 "cells": [
  {
   "cell_type": "markdown",
   "metadata": {},
   "source": [
    "# Проект: вариант 1    \n",
    "Представьте, что вы работаете в компании, которая разрабатывает мобильные игры. К вам пришел менеджер с рядом задач по исследованию нескольких аспектов мобильного приложения:\n",
    "\n",
    "1.В первую очередь, его интересует показатель retention. Напишите функцию для его подсчета.    \n",
    "2.Помимо этого, в компании провели A/B тестирование наборов акционных предложений. На основе имеющихся данных определите, какой набор можно считать лучшим и на основе каких метрик стоит принять правильное решение.    \n",
    "3.Предложите метрики для оценки результатов последнего прошедшего тематического события в игре."
   ]
  },
  {
   "cell_type": "code",
   "execution_count": 1,
   "metadata": {},
   "outputs": [],
   "source": [
    "import pandas as pd\n",
    "import datetime\n",
    "import seaborn as sns\n",
    "import matplotlib.pyplot as plt\n",
    "from scipy import stats\n",
    "import numpy as np\n",
    "from datetime import datetime\n",
    "from datetime import timedelta\n",
    "from tqdm.auto import tqdm\n",
    "import pingouin as pg\n",
    "from scipy.stats import norm"
   ]
  },
  {
   "cell_type": "markdown",
   "metadata": {},
   "source": [
    "# Задание 1    \n",
    "Retention – один из самых важных показателей в компании. Ваша задача – написать функцию, которая будет считать retention игроков (по дням от даты регистрации игрока). "
   ]
  },
  {
   "cell_type": "markdown",
   "metadata": {},
   "source": [
    "Считаем исходные данные"
   ]
  },
  {
   "cell_type": "code",
   "execution_count": null,
   "metadata": {},
   "outputs": [
    {
     "name": "stderr",
     "output_type": "stream",
     "text": [
      "/opt/tljh/user/lib/python3.7/site-packages/outdated/utils.py:18: OutdatedCacheFailedWarning: Failed to use cache while checking for outdated package.\n",
      "Set the environment variable OUTDATED_RAISE_EXCEPTION=1 for a full traceback.\n",
      "Set the environment variable OUTDATED_IGNORE=1 to disable these warnings.\n",
      "  **kwargs\n",
      "/opt/tljh/user/lib/python3.7/site-packages/outdated/utils.py:18: OutdatedPackageWarning: The package outdated is out of date. Your version is 0.2.1, the latest is 0.2.2.\n",
      "Set the environment variable OUTDATED_IGNORE=1 to disable these warnings.\n",
      "  **kwargs\n",
      "/opt/tljh/user/lib/python3.7/site-packages/outdated/utils.py:18: OutdatedPackageWarning: The package pingouin is out of date. Your version is 0.4.0, the latest is 0.5.3.\n",
      "Set the environment variable OUTDATED_IGNORE=1 to disable these warnings.\n",
      "  **kwargs\n"
     ]
    },
    {
     "data": {
      "text/html": [
       "<div>\n",
       "<style scoped>\n",
       "    .dataframe tbody tr th:only-of-type {\n",
       "        vertical-align: middle;\n",
       "    }\n",
       "\n",
       "    .dataframe tbody tr th {\n",
       "        vertical-align: top;\n",
       "    }\n",
       "\n",
       "    .dataframe thead th {\n",
       "        text-align: right;\n",
       "    }\n",
       "</style>\n",
       "<table border=\"1\" class=\"dataframe\">\n",
       "  <thead>\n",
       "    <tr style=\"text-align: right;\">\n",
       "      <th></th>\n",
       "      <th>reg_ts</th>\n",
       "      <th>uid</th>\n",
       "    </tr>\n",
       "  </thead>\n",
       "  <tbody>\n",
       "    <tr>\n",
       "      <th>0</th>\n",
       "      <td>911382223</td>\n",
       "      <td>1</td>\n",
       "    </tr>\n",
       "    <tr>\n",
       "      <th>1</th>\n",
       "      <td>932683089</td>\n",
       "      <td>2</td>\n",
       "    </tr>\n",
       "    <tr>\n",
       "      <th>2</th>\n",
       "      <td>947802447</td>\n",
       "      <td>3</td>\n",
       "    </tr>\n",
       "    <tr>\n",
       "      <th>3</th>\n",
       "      <td>959523541</td>\n",
       "      <td>4</td>\n",
       "    </tr>\n",
       "    <tr>\n",
       "      <th>4</th>\n",
       "      <td>969103313</td>\n",
       "      <td>5</td>\n",
       "    </tr>\n",
       "    <tr>\n",
       "      <th>...</th>\n",
       "      <td>...</td>\n",
       "      <td>...</td>\n",
       "    </tr>\n",
       "    <tr>\n",
       "      <th>999995</th>\n",
       "      <td>1600874034</td>\n",
       "      <td>1110618</td>\n",
       "    </tr>\n",
       "    <tr>\n",
       "      <th>999996</th>\n",
       "      <td>1600874086</td>\n",
       "      <td>1110619</td>\n",
       "    </tr>\n",
       "    <tr>\n",
       "      <th>999997</th>\n",
       "      <td>1600874139</td>\n",
       "      <td>1110620</td>\n",
       "    </tr>\n",
       "    <tr>\n",
       "      <th>999998</th>\n",
       "      <td>1600874191</td>\n",
       "      <td>1110621</td>\n",
       "    </tr>\n",
       "    <tr>\n",
       "      <th>999999</th>\n",
       "      <td>1600874244</td>\n",
       "      <td>1110622</td>\n",
       "    </tr>\n",
       "  </tbody>\n",
       "</table>\n",
       "<p>1000000 rows × 2 columns</p>\n",
       "</div>"
      ],
      "text/plain": [
       "            reg_ts      uid\n",
       "0        911382223        1\n",
       "1        932683089        2\n",
       "2        947802447        3\n",
       "3        959523541        4\n",
       "4        969103313        5\n",
       "...            ...      ...\n",
       "999995  1600874034  1110618\n",
       "999996  1600874086  1110619\n",
       "999997  1600874139  1110620\n",
       "999998  1600874191  1110621\n",
       "999999  1600874244  1110622\n",
       "\n",
       "[1000000 rows x 2 columns]"
      ]
     },
     "execution_count": 2,
     "metadata": {},
     "output_type": "execute_result"
    }
   ],
   "source": [
    "reg_data = pd.read_csv(f'https://getfile.dokpub.com/yandex/get/https://disk.yandex.ru/d/Qb0QI44Zs2GiiA' ,sep=';')\n",
    "reg_data"
   ]
  },
  {
   "cell_type": "code",
   "execution_count": 1,
   "metadata": {},
   "outputs": [
    {
     "ename": "NameError",
     "evalue": "name 'pd' is not defined",
     "output_type": "error",
     "traceback": [
      "\u001b[1;31m---------------------------------------------------------------------------\u001b[0m",
      "\u001b[1;31mNameError\u001b[0m                                 Traceback (most recent call last)",
      "\u001b[1;32md:\\портфолио карпов\\final_project_variant_1.ipynb Ячейка 6\u001b[0m in \u001b[0;36m<cell line: 1>\u001b[1;34m()\u001b[0m\n\u001b[1;32m----> <a href='vscode-notebook-cell:/d%3A/%D0%BF%D0%BE%D1%80%D1%82%D1%84%D0%BE%D0%BB%D0%B8%D0%BE%20%D0%BA%D0%B0%D1%80%D0%BF%D0%BE%D0%B2/final_project_variant_1.ipynb#W5sZmlsZQ%3D%3D?line=0'>1</a>\u001b[0m auth_data \u001b[39m=\u001b[39m pd\u001b[39m.\u001b[39mread_csv(\u001b[39mf\u001b[39m\u001b[39m'\u001b[39m\u001b[39mhttps://getfile.dokpub.com/yandex/get/https://disk.yandex.ru/d/e9BGukZuL0wDgA\u001b[39m\u001b[39m'\u001b[39m,sep\u001b[39m=\u001b[39m\u001b[39m'\u001b[39m\u001b[39m;\u001b[39m\u001b[39m'\u001b[39m)\n\u001b[0;32m      <a href='vscode-notebook-cell:/d%3A/%D0%BF%D0%BE%D1%80%D1%82%D1%84%D0%BE%D0%BB%D0%B8%D0%BE%20%D0%BA%D0%B0%D1%80%D0%BF%D0%BE%D0%B2/final_project_variant_1.ipynb#W5sZmlsZQ%3D%3D?line=1'>2</a>\u001b[0m auth_data\n",
      "\u001b[1;31mNameError\u001b[0m: name 'pd' is not defined"
     ]
    }
   ],
   "source": [
    "auth_data = pd.read_csv(f'https://getfile.dokpub.com/yandex/get/https://disk.yandex.ru/d/e9BGukZuL0wDgA',sep=';')\n",
    "auth_data"
   ]
  },
  {
   "cell_type": "markdown",
   "metadata": {},
   "source": [
    "Посмотрим типы переменных, наличие пропущенных и уникальных значений и описательную статистику"
   ]
  },
  {
   "cell_type": "code",
   "execution_count": 4,
   "metadata": {},
   "outputs": [
    {
     "data": {
      "text/plain": [
       "reg_ts    int64\n",
       "uid       int64\n",
       "dtype: object"
      ]
     },
     "execution_count": 4,
     "metadata": {},
     "output_type": "execute_result"
    }
   ],
   "source": [
    "reg_data.dtypes"
   ]
  },
  {
   "cell_type": "code",
   "execution_count": 5,
   "metadata": {},
   "outputs": [
    {
     "data": {
      "text/plain": [
       "auth_ts    int64\n",
       "uid        int64\n",
       "dtype: object"
      ]
     },
     "execution_count": 5,
     "metadata": {},
     "output_type": "execute_result"
    }
   ],
   "source": [
    "auth_data.dtypes"
   ]
  },
  {
   "cell_type": "code",
   "execution_count": 6,
   "metadata": {},
   "outputs": [
    {
     "data": {
      "text/plain": [
       "reg_ts    0\n",
       "uid       0\n",
       "dtype: int64"
      ]
     },
     "execution_count": 6,
     "metadata": {},
     "output_type": "execute_result"
    }
   ],
   "source": [
    "reg_data.isna().sum()"
   ]
  },
  {
   "cell_type": "code",
   "execution_count": 7,
   "metadata": {},
   "outputs": [
    {
     "data": {
      "text/plain": [
       "auth_ts    0\n",
       "uid        0\n",
       "dtype: int64"
      ]
     },
     "execution_count": 7,
     "metadata": {},
     "output_type": "execute_result"
    }
   ],
   "source": [
    "auth_data.isna().sum()"
   ]
  },
  {
   "cell_type": "code",
   "execution_count": 8,
   "metadata": {},
   "outputs": [
    {
     "data": {
      "text/plain": [
       "1000000"
      ]
     },
     "execution_count": 8,
     "metadata": {},
     "output_type": "execute_result"
    }
   ],
   "source": [
    "reg_data.reg_ts.nunique()"
   ]
  },
  {
   "cell_type": "code",
   "execution_count": 9,
   "metadata": {},
   "outputs": [
    {
     "data": {
      "text/plain": [
       "1000000"
      ]
     },
     "execution_count": 9,
     "metadata": {},
     "output_type": "execute_result"
    }
   ],
   "source": [
    "auth_data[\"uid\"].nunique()"
   ]
  },
  {
   "cell_type": "code",
   "execution_count": 10,
   "metadata": {},
   "outputs": [
    {
     "data": {
      "text/html": [
       "<div>\n",
       "<style scoped>\n",
       "    .dataframe tbody tr th:only-of-type {\n",
       "        vertical-align: middle;\n",
       "    }\n",
       "\n",
       "    .dataframe tbody tr th {\n",
       "        vertical-align: top;\n",
       "    }\n",
       "\n",
       "    .dataframe thead th {\n",
       "        text-align: right;\n",
       "    }\n",
       "</style>\n",
       "<table border=\"1\" class=\"dataframe\">\n",
       "  <thead>\n",
       "    <tr style=\"text-align: right;\">\n",
       "      <th></th>\n",
       "      <th>reg_ts</th>\n",
       "      <th>uid</th>\n",
       "    </tr>\n",
       "  </thead>\n",
       "  <tbody>\n",
       "    <tr>\n",
       "      <th>count</th>\n",
       "      <td>1.000000e+06</td>\n",
       "      <td>1.000000e+06</td>\n",
       "    </tr>\n",
       "    <tr>\n",
       "      <th>mean</th>\n",
       "      <td>1.548332e+09</td>\n",
       "      <td>5.552354e+05</td>\n",
       "    </tr>\n",
       "    <tr>\n",
       "      <th>std</th>\n",
       "      <td>5.253653e+07</td>\n",
       "      <td>3.206011e+05</td>\n",
       "    </tr>\n",
       "    <tr>\n",
       "      <th>min</th>\n",
       "      <td>9.113822e+08</td>\n",
       "      <td>1.000000e+00</td>\n",
       "    </tr>\n",
       "    <tr>\n",
       "      <th>25%</th>\n",
       "      <td>1.528034e+09</td>\n",
       "      <td>2.776438e+05</td>\n",
       "    </tr>\n",
       "    <tr>\n",
       "      <th>50%</th>\n",
       "      <td>1.564454e+09</td>\n",
       "      <td>5.550455e+05</td>\n",
       "    </tr>\n",
       "    <tr>\n",
       "      <th>75%</th>\n",
       "      <td>1.585759e+09</td>\n",
       "      <td>8.329712e+05</td>\n",
       "    </tr>\n",
       "    <tr>\n",
       "      <th>max</th>\n",
       "      <td>1.600874e+09</td>\n",
       "      <td>1.110622e+06</td>\n",
       "    </tr>\n",
       "  </tbody>\n",
       "</table>\n",
       "</div>"
      ],
      "text/plain": [
       "             reg_ts           uid\n",
       "count  1.000000e+06  1.000000e+06\n",
       "mean   1.548332e+09  5.552354e+05\n",
       "std    5.253653e+07  3.206011e+05\n",
       "min    9.113822e+08  1.000000e+00\n",
       "25%    1.528034e+09  2.776438e+05\n",
       "50%    1.564454e+09  5.550455e+05\n",
       "75%    1.585759e+09  8.329712e+05\n",
       "max    1.600874e+09  1.110622e+06"
      ]
     },
     "execution_count": 10,
     "metadata": {},
     "output_type": "execute_result"
    }
   ],
   "source": [
    "reg_data.describe()"
   ]
  },
  {
   "cell_type": "code",
   "execution_count": 11,
   "metadata": {},
   "outputs": [
    {
     "data": {
      "text/html": [
       "<div>\n",
       "<style scoped>\n",
       "    .dataframe tbody tr th:only-of-type {\n",
       "        vertical-align: middle;\n",
       "    }\n",
       "\n",
       "    .dataframe tbody tr th {\n",
       "        vertical-align: top;\n",
       "    }\n",
       "\n",
       "    .dataframe thead th {\n",
       "        text-align: right;\n",
       "    }\n",
       "</style>\n",
       "<table border=\"1\" class=\"dataframe\">\n",
       "  <thead>\n",
       "    <tr style=\"text-align: right;\">\n",
       "      <th></th>\n",
       "      <th>auth_ts</th>\n",
       "      <th>uid</th>\n",
       "    </tr>\n",
       "  </thead>\n",
       "  <tbody>\n",
       "    <tr>\n",
       "      <th>count</th>\n",
       "      <td>9.601013e+06</td>\n",
       "      <td>9.601013e+06</td>\n",
       "    </tr>\n",
       "    <tr>\n",
       "      <th>mean</th>\n",
       "      <td>1.548778e+09</td>\n",
       "      <td>3.347198e+05</td>\n",
       "    </tr>\n",
       "    <tr>\n",
       "      <th>std</th>\n",
       "      <td>5.160527e+07</td>\n",
       "      <td>2.832669e+05</td>\n",
       "    </tr>\n",
       "    <tr>\n",
       "      <th>min</th>\n",
       "      <td>9.113822e+08</td>\n",
       "      <td>1.000000e+00</td>\n",
       "    </tr>\n",
       "    <tr>\n",
       "      <th>25%</th>\n",
       "      <td>1.528375e+09</td>\n",
       "      <td>9.599700e+04</td>\n",
       "    </tr>\n",
       "    <tr>\n",
       "      <th>50%</th>\n",
       "      <td>1.564577e+09</td>\n",
       "      <td>2.579210e+05</td>\n",
       "    </tr>\n",
       "    <tr>\n",
       "      <th>75%</th>\n",
       "      <td>1.585823e+09</td>\n",
       "      <td>5.190250e+05</td>\n",
       "    </tr>\n",
       "    <tr>\n",
       "      <th>max</th>\n",
       "      <td>1.600874e+09</td>\n",
       "      <td>1.110622e+06</td>\n",
       "    </tr>\n",
       "  </tbody>\n",
       "</table>\n",
       "</div>"
      ],
      "text/plain": [
       "            auth_ts           uid\n",
       "count  9.601013e+06  9.601013e+06\n",
       "mean   1.548778e+09  3.347198e+05\n",
       "std    5.160527e+07  2.832669e+05\n",
       "min    9.113822e+08  1.000000e+00\n",
       "25%    1.528375e+09  9.599700e+04\n",
       "50%    1.564577e+09  2.579210e+05\n",
       "75%    1.585823e+09  5.190250e+05\n",
       "max    1.600874e+09  1.110622e+06"
      ]
     },
     "execution_count": 11,
     "metadata": {},
     "output_type": "execute_result"
    }
   ],
   "source": [
    "auth_data.describe()"
   ]
  },
  {
   "cell_type": "code",
   "execution_count": 12,
   "metadata": {},
   "outputs": [
    {
     "data": {
      "text/plain": [
       "Timestamp('1998-11-18 09:43:43')"
      ]
     },
     "execution_count": 12,
     "metadata": {},
     "output_type": "execute_result"
    }
   ],
   "source": [
    "pd.to_datetime(reg_data.reg_ts.min(), unit='s') # минимальное значение даты регистрации"
   ]
  },
  {
   "cell_type": "code",
   "execution_count": 13,
   "metadata": {},
   "outputs": [
    {
     "data": {
      "text/plain": [
       "Timestamp('2020-09-23 15:17:24')"
      ]
     },
     "execution_count": 13,
     "metadata": {},
     "output_type": "execute_result"
    }
   ],
   "source": [
    "pd.to_datetime(reg_data.reg_ts.max(), unit='s') # максимальное значение даты регистрации"
   ]
  },
  {
   "cell_type": "code",
   "execution_count": 14,
   "metadata": {},
   "outputs": [
    {
     "data": {
      "text/plain": [
       "Timestamp('1998-11-18 09:43:43')"
      ]
     },
     "execution_count": 14,
     "metadata": {},
     "output_type": "execute_result"
    }
   ],
   "source": [
    "pd.to_datetime(auth_data.auth_ts.min(), unit='s')  # минимальное значение даты захода в игру"
   ]
  },
  {
   "cell_type": "code",
   "execution_count": 15,
   "metadata": {},
   "outputs": [
    {
     "data": {
      "text/plain": [
       "Timestamp('2020-09-23 15:17:24')"
      ]
     },
     "execution_count": 15,
     "metadata": {},
     "output_type": "execute_result"
    }
   ],
   "source": [
    "pd.to_datetime(auth_data.auth_ts.max(), unit='s')  # максимальное значение даты захода в игру"
   ]
  },
  {
   "cell_type": "markdown",
   "metadata": {},
   "source": [
    "Функция для нахождения retention по дням"
   ]
  },
  {
   "cell_type": "code",
   "execution_count": 16,
   "metadata": {},
   "outputs": [],
   "source": [
    "# auth и reg - это исходные файлы с данными\n",
    "# start и end - это даты искомого диапазона когорт\n",
    "# ret_days - это кол-во дней для retention\n",
    "def retention(auth, reg, start, end, ret_days):\n",
    "    # объединяем оба датафрейма с данными\n",
    "    df = auth.merge(reg, on='uid')\n",
    "        \n",
    "    # добавляем столбцы в нужном формате и удаляем ненужные столбцы\n",
    "    df['action_date'] = pd.to_datetime(df.auth_ts, unit='s').dt.date\n",
    "    df['cohort_date'] = pd.to_datetime(df.reg_ts, unit='s').dt.date\n",
    "    df.drop(['reg_ts', 'auth_ts'], axis=1, inplace=True)\n",
    "    \n",
    "    # находим разницу в днях между датой регистрации и датой авторизаций\n",
    "    df['days_diff'] = (df.action_date - df.cohort_date).dt.days.astype('int16')\n",
    "    \n",
    "    # фильтруем нужные данные\n",
    "    start = pd.to_datetime(start)\n",
    "    end = pd.to_datetime(end)\n",
    "    df_cut = df[(df['cohort_date'] >= start) & (df['cohort_date'] <= end) & (df['days_diff'] <= ret_days)] \n",
    "    \n",
    "    # находим кол-во авторизаций для каждого набора значений и добавляем аналогичный столбец с разницей в днях\n",
    "    cohorts = df_cut.groupby(['cohort_date', 'action_date'], as_index=False).uid.nunique()\n",
    "    cohorts['days_diff'] = (cohorts.action_date - cohorts.cohort_date).dt.days\n",
    "            \n",
    "    # формируем сводную таблицу и строим retention с помощью деления всех значений на размер когорт\n",
    "    cohort_pivot = cohorts.pivot_table(index='cohort_date', columns='days_diff', values='uid')\n",
    "    retention_matrix = cohort_pivot.div(cohort_pivot.iloc[:, 0], axis=0).round(3)\n",
    "    \n",
    "    # строим heatmap\n",
    "    plt.figure(figsize=(20, 15))\n",
    "    ax = sns.heatmap(retention_matrix, cmap='PiYG', annot=True, fmt='.2%', vmax=0.1, cbar=False)\n",
    "    ax.set_title('Retention rate {} days'.format(ret_days), fontsize=30)\n",
    "    plt.ylabel('Cohort', fontsize=20) \n",
    "    plt.xlabel('Days after registration', fontsize=20)\n",
    "    sns.despine()\n",
    "\n",
    "    return retention_matrix"
   ]
  },
  {
   "cell_type": "code",
   "execution_count": 17,
   "metadata": {},
   "outputs": [
    {
     "data": {
      "text/html": [
       "<div>\n",
       "<style scoped>\n",
       "    .dataframe tbody tr th:only-of-type {\n",
       "        vertical-align: middle;\n",
       "    }\n",
       "\n",
       "    .dataframe tbody tr th {\n",
       "        vertical-align: top;\n",
       "    }\n",
       "\n",
       "    .dataframe thead th {\n",
       "        text-align: right;\n",
       "    }\n",
       "</style>\n",
       "<table border=\"1\" class=\"dataframe\">\n",
       "  <thead>\n",
       "    <tr style=\"text-align: right;\">\n",
       "      <th>days_diff</th>\n",
       "      <th>0</th>\n",
       "      <th>1</th>\n",
       "      <th>2</th>\n",
       "      <th>3</th>\n",
       "      <th>4</th>\n",
       "      <th>5</th>\n",
       "      <th>6</th>\n",
       "      <th>7</th>\n",
       "      <th>8</th>\n",
       "      <th>9</th>\n",
       "      <th>10</th>\n",
       "      <th>11</th>\n",
       "      <th>12</th>\n",
       "      <th>13</th>\n",
       "      <th>14</th>\n",
       "      <th>15</th>\n",
       "    </tr>\n",
       "    <tr>\n",
       "      <th>cohort_date</th>\n",
       "      <th></th>\n",
       "      <th></th>\n",
       "      <th></th>\n",
       "      <th></th>\n",
       "      <th></th>\n",
       "      <th></th>\n",
       "      <th></th>\n",
       "      <th></th>\n",
       "      <th></th>\n",
       "      <th></th>\n",
       "      <th></th>\n",
       "      <th></th>\n",
       "      <th></th>\n",
       "      <th></th>\n",
       "      <th></th>\n",
       "      <th></th>\n",
       "    </tr>\n",
       "  </thead>\n",
       "  <tbody>\n",
       "    <tr>\n",
       "      <th>2020-01-10</th>\n",
       "      <td>1.0</td>\n",
       "      <td>0.019</td>\n",
       "      <td>0.037</td>\n",
       "      <td>0.051</td>\n",
       "      <td>0.043</td>\n",
       "      <td>0.059</td>\n",
       "      <td>0.071</td>\n",
       "      <td>0.056</td>\n",
       "      <td>0.045</td>\n",
       "      <td>0.048</td>\n",
       "      <td>0.045</td>\n",
       "      <td>0.052</td>\n",
       "      <td>0.049</td>\n",
       "      <td>0.037</td>\n",
       "      <td>0.038</td>\n",
       "      <td>0.059</td>\n",
       "    </tr>\n",
       "    <tr>\n",
       "      <th>2020-01-11</th>\n",
       "      <td>1.0</td>\n",
       "      <td>0.016</td>\n",
       "      <td>0.039</td>\n",
       "      <td>0.051</td>\n",
       "      <td>0.050</td>\n",
       "      <td>0.048</td>\n",
       "      <td>0.064</td>\n",
       "      <td>0.057</td>\n",
       "      <td>0.044</td>\n",
       "      <td>0.053</td>\n",
       "      <td>0.054</td>\n",
       "      <td>0.044</td>\n",
       "      <td>0.048</td>\n",
       "      <td>0.040</td>\n",
       "      <td>0.046</td>\n",
       "      <td>0.040</td>\n",
       "    </tr>\n",
       "    <tr>\n",
       "      <th>2020-01-12</th>\n",
       "      <td>1.0</td>\n",
       "      <td>0.019</td>\n",
       "      <td>0.045</td>\n",
       "      <td>0.041</td>\n",
       "      <td>0.056</td>\n",
       "      <td>0.070</td>\n",
       "      <td>0.059</td>\n",
       "      <td>0.048</td>\n",
       "      <td>0.051</td>\n",
       "      <td>0.056</td>\n",
       "      <td>0.043</td>\n",
       "      <td>0.060</td>\n",
       "      <td>0.042</td>\n",
       "      <td>0.037</td>\n",
       "      <td>0.043</td>\n",
       "      <td>0.044</td>\n",
       "    </tr>\n",
       "    <tr>\n",
       "      <th>2020-01-13</th>\n",
       "      <td>1.0</td>\n",
       "      <td>0.019</td>\n",
       "      <td>0.044</td>\n",
       "      <td>0.048</td>\n",
       "      <td>0.057</td>\n",
       "      <td>0.057</td>\n",
       "      <td>0.069</td>\n",
       "      <td>0.063</td>\n",
       "      <td>0.030</td>\n",
       "      <td>0.069</td>\n",
       "      <td>0.050</td>\n",
       "      <td>0.047</td>\n",
       "      <td>0.043</td>\n",
       "      <td>0.062</td>\n",
       "      <td>0.048</td>\n",
       "      <td>0.049</td>\n",
       "    </tr>\n",
       "    <tr>\n",
       "      <th>2020-01-14</th>\n",
       "      <td>1.0</td>\n",
       "      <td>0.017</td>\n",
       "      <td>0.045</td>\n",
       "      <td>0.054</td>\n",
       "      <td>0.065</td>\n",
       "      <td>0.056</td>\n",
       "      <td>0.065</td>\n",
       "      <td>0.063</td>\n",
       "      <td>0.072</td>\n",
       "      <td>0.041</td>\n",
       "      <td>0.061</td>\n",
       "      <td>0.059</td>\n",
       "      <td>0.055</td>\n",
       "      <td>0.061</td>\n",
       "      <td>0.052</td>\n",
       "      <td>0.049</td>\n",
       "    </tr>\n",
       "    <tr>\n",
       "      <th>2020-01-15</th>\n",
       "      <td>1.0</td>\n",
       "      <td>0.016</td>\n",
       "      <td>0.042</td>\n",
       "      <td>0.056</td>\n",
       "      <td>0.057</td>\n",
       "      <td>0.047</td>\n",
       "      <td>0.059</td>\n",
       "      <td>0.073</td>\n",
       "      <td>0.052</td>\n",
       "      <td>0.050</td>\n",
       "      <td>0.043</td>\n",
       "      <td>0.052</td>\n",
       "      <td>0.049</td>\n",
       "      <td>0.057</td>\n",
       "      <td>0.047</td>\n",
       "      <td>0.041</td>\n",
       "    </tr>\n",
       "    <tr>\n",
       "      <th>2020-01-16</th>\n",
       "      <td>1.0</td>\n",
       "      <td>0.023</td>\n",
       "      <td>0.041</td>\n",
       "      <td>0.048</td>\n",
       "      <td>0.058</td>\n",
       "      <td>0.062</td>\n",
       "      <td>0.070</td>\n",
       "      <td>0.059</td>\n",
       "      <td>0.043</td>\n",
       "      <td>0.058</td>\n",
       "      <td>0.063</td>\n",
       "      <td>0.050</td>\n",
       "      <td>0.057</td>\n",
       "      <td>0.051</td>\n",
       "      <td>0.037</td>\n",
       "      <td>0.057</td>\n",
       "    </tr>\n",
       "    <tr>\n",
       "      <th>2020-01-17</th>\n",
       "      <td>1.0</td>\n",
       "      <td>0.020</td>\n",
       "      <td>0.035</td>\n",
       "      <td>0.039</td>\n",
       "      <td>0.049</td>\n",
       "      <td>0.048</td>\n",
       "      <td>0.064</td>\n",
       "      <td>0.049</td>\n",
       "      <td>0.051</td>\n",
       "      <td>0.039</td>\n",
       "      <td>0.049</td>\n",
       "      <td>0.043</td>\n",
       "      <td>0.039</td>\n",
       "      <td>0.046</td>\n",
       "      <td>0.038</td>\n",
       "      <td>0.040</td>\n",
       "    </tr>\n",
       "    <tr>\n",
       "      <th>2020-01-18</th>\n",
       "      <td>1.0</td>\n",
       "      <td>0.031</td>\n",
       "      <td>0.042</td>\n",
       "      <td>0.047</td>\n",
       "      <td>0.051</td>\n",
       "      <td>0.066</td>\n",
       "      <td>0.074</td>\n",
       "      <td>0.070</td>\n",
       "      <td>0.046</td>\n",
       "      <td>0.036</td>\n",
       "      <td>0.059</td>\n",
       "      <td>0.064</td>\n",
       "      <td>0.049</td>\n",
       "      <td>0.051</td>\n",
       "      <td>0.048</td>\n",
       "      <td>0.045</td>\n",
       "    </tr>\n",
       "    <tr>\n",
       "      <th>2020-01-19</th>\n",
       "      <td>1.0</td>\n",
       "      <td>0.027</td>\n",
       "      <td>0.038</td>\n",
       "      <td>0.043</td>\n",
       "      <td>0.048</td>\n",
       "      <td>0.059</td>\n",
       "      <td>0.069</td>\n",
       "      <td>0.044</td>\n",
       "      <td>0.048</td>\n",
       "      <td>0.059</td>\n",
       "      <td>0.044</td>\n",
       "      <td>0.038</td>\n",
       "      <td>0.057</td>\n",
       "      <td>0.044</td>\n",
       "      <td>0.040</td>\n",
       "      <td>0.048</td>\n",
       "    </tr>\n",
       "    <tr>\n",
       "      <th>2020-01-20</th>\n",
       "      <td>1.0</td>\n",
       "      <td>0.016</td>\n",
       "      <td>0.038</td>\n",
       "      <td>0.050</td>\n",
       "      <td>0.063</td>\n",
       "      <td>0.065</td>\n",
       "      <td>0.071</td>\n",
       "      <td>0.064</td>\n",
       "      <td>0.047</td>\n",
       "      <td>0.058</td>\n",
       "      <td>0.047</td>\n",
       "      <td>0.054</td>\n",
       "      <td>0.054</td>\n",
       "      <td>0.047</td>\n",
       "      <td>0.046</td>\n",
       "      <td>0.051</td>\n",
       "    </tr>\n",
       "    <tr>\n",
       "      <th>2020-01-21</th>\n",
       "      <td>1.0</td>\n",
       "      <td>0.029</td>\n",
       "      <td>0.034</td>\n",
       "      <td>0.055</td>\n",
       "      <td>0.057</td>\n",
       "      <td>0.050</td>\n",
       "      <td>0.065</td>\n",
       "      <td>0.061</td>\n",
       "      <td>0.046</td>\n",
       "      <td>0.053</td>\n",
       "      <td>0.066</td>\n",
       "      <td>0.045</td>\n",
       "      <td>0.050</td>\n",
       "      <td>0.045</td>\n",
       "      <td>0.047</td>\n",
       "      <td>0.049</td>\n",
       "    </tr>\n",
       "    <tr>\n",
       "      <th>2020-01-22</th>\n",
       "      <td>1.0</td>\n",
       "      <td>0.018</td>\n",
       "      <td>0.033</td>\n",
       "      <td>0.047</td>\n",
       "      <td>0.049</td>\n",
       "      <td>0.053</td>\n",
       "      <td>0.068</td>\n",
       "      <td>0.050</td>\n",
       "      <td>0.045</td>\n",
       "      <td>0.040</td>\n",
       "      <td>0.056</td>\n",
       "      <td>0.045</td>\n",
       "      <td>0.045</td>\n",
       "      <td>0.041</td>\n",
       "      <td>0.052</td>\n",
       "      <td>0.043</td>\n",
       "    </tr>\n",
       "    <tr>\n",
       "      <th>2020-01-23</th>\n",
       "      <td>1.0</td>\n",
       "      <td>0.016</td>\n",
       "      <td>0.038</td>\n",
       "      <td>0.039</td>\n",
       "      <td>0.051</td>\n",
       "      <td>0.062</td>\n",
       "      <td>0.080</td>\n",
       "      <td>0.061</td>\n",
       "      <td>0.049</td>\n",
       "      <td>0.049</td>\n",
       "      <td>0.052</td>\n",
       "      <td>0.048</td>\n",
       "      <td>0.054</td>\n",
       "      <td>0.057</td>\n",
       "      <td>0.045</td>\n",
       "      <td>0.035</td>\n",
       "    </tr>\n",
       "    <tr>\n",
       "      <th>2020-01-24</th>\n",
       "      <td>1.0</td>\n",
       "      <td>0.018</td>\n",
       "      <td>0.043</td>\n",
       "      <td>0.046</td>\n",
       "      <td>0.046</td>\n",
       "      <td>0.053</td>\n",
       "      <td>0.063</td>\n",
       "      <td>0.054</td>\n",
       "      <td>0.050</td>\n",
       "      <td>0.036</td>\n",
       "      <td>0.053</td>\n",
       "      <td>0.046</td>\n",
       "      <td>0.050</td>\n",
       "      <td>0.042</td>\n",
       "      <td>0.048</td>\n",
       "      <td>0.048</td>\n",
       "    </tr>\n",
       "    <tr>\n",
       "      <th>2020-01-25</th>\n",
       "      <td>1.0</td>\n",
       "      <td>0.018</td>\n",
       "      <td>0.042</td>\n",
       "      <td>0.043</td>\n",
       "      <td>0.050</td>\n",
       "      <td>0.047</td>\n",
       "      <td>0.072</td>\n",
       "      <td>0.055</td>\n",
       "      <td>0.053</td>\n",
       "      <td>0.049</td>\n",
       "      <td>0.037</td>\n",
       "      <td>0.054</td>\n",
       "      <td>0.043</td>\n",
       "      <td>0.053</td>\n",
       "      <td>0.042</td>\n",
       "      <td>0.053</td>\n",
       "    </tr>\n",
       "    <tr>\n",
       "      <th>2020-01-26</th>\n",
       "      <td>1.0</td>\n",
       "      <td>0.015</td>\n",
       "      <td>0.044</td>\n",
       "      <td>0.061</td>\n",
       "      <td>0.060</td>\n",
       "      <td>0.070</td>\n",
       "      <td>0.056</td>\n",
       "      <td>0.064</td>\n",
       "      <td>0.052</td>\n",
       "      <td>0.051</td>\n",
       "      <td>0.057</td>\n",
       "      <td>0.049</td>\n",
       "      <td>0.056</td>\n",
       "      <td>0.051</td>\n",
       "      <td>0.043</td>\n",
       "      <td>0.050</td>\n",
       "    </tr>\n",
       "    <tr>\n",
       "      <th>2020-01-27</th>\n",
       "      <td>1.0</td>\n",
       "      <td>0.017</td>\n",
       "      <td>0.035</td>\n",
       "      <td>0.047</td>\n",
       "      <td>0.054</td>\n",
       "      <td>0.051</td>\n",
       "      <td>0.074</td>\n",
       "      <td>0.053</td>\n",
       "      <td>0.043</td>\n",
       "      <td>0.061</td>\n",
       "      <td>0.042</td>\n",
       "      <td>0.049</td>\n",
       "      <td>0.048</td>\n",
       "      <td>0.045</td>\n",
       "      <td>0.037</td>\n",
       "      <td>0.048</td>\n",
       "    </tr>\n",
       "    <tr>\n",
       "      <th>2020-01-28</th>\n",
       "      <td>1.0</td>\n",
       "      <td>0.024</td>\n",
       "      <td>0.044</td>\n",
       "      <td>0.051</td>\n",
       "      <td>0.065</td>\n",
       "      <td>0.055</td>\n",
       "      <td>0.064</td>\n",
       "      <td>0.054</td>\n",
       "      <td>0.043</td>\n",
       "      <td>0.060</td>\n",
       "      <td>0.052</td>\n",
       "      <td>0.052</td>\n",
       "      <td>0.060</td>\n",
       "      <td>0.054</td>\n",
       "      <td>0.039</td>\n",
       "      <td>0.048</td>\n",
       "    </tr>\n",
       "    <tr>\n",
       "      <th>2020-01-29</th>\n",
       "      <td>1.0</td>\n",
       "      <td>0.022</td>\n",
       "      <td>0.041</td>\n",
       "      <td>0.042</td>\n",
       "      <td>0.049</td>\n",
       "      <td>0.061</td>\n",
       "      <td>0.059</td>\n",
       "      <td>0.062</td>\n",
       "      <td>0.048</td>\n",
       "      <td>0.043</td>\n",
       "      <td>0.053</td>\n",
       "      <td>0.043</td>\n",
       "      <td>0.057</td>\n",
       "      <td>0.045</td>\n",
       "      <td>0.035</td>\n",
       "      <td>0.048</td>\n",
       "    </tr>\n",
       "    <tr>\n",
       "      <th>2020-01-30</th>\n",
       "      <td>1.0</td>\n",
       "      <td>0.020</td>\n",
       "      <td>0.042</td>\n",
       "      <td>0.052</td>\n",
       "      <td>0.053</td>\n",
       "      <td>0.057</td>\n",
       "      <td>0.081</td>\n",
       "      <td>0.058</td>\n",
       "      <td>0.051</td>\n",
       "      <td>0.047</td>\n",
       "      <td>0.053</td>\n",
       "      <td>0.046</td>\n",
       "      <td>0.048</td>\n",
       "      <td>0.050</td>\n",
       "      <td>0.053</td>\n",
       "      <td>0.044</td>\n",
       "    </tr>\n",
       "  </tbody>\n",
       "</table>\n",
       "</div>"
      ],
      "text/plain": [
       "days_diff     0      1      2      3      4      5      6      7      8   \\\n",
       "cohort_date                                                                \n",
       "2020-01-10   1.0  0.019  0.037  0.051  0.043  0.059  0.071  0.056  0.045   \n",
       "2020-01-11   1.0  0.016  0.039  0.051  0.050  0.048  0.064  0.057  0.044   \n",
       "2020-01-12   1.0  0.019  0.045  0.041  0.056  0.070  0.059  0.048  0.051   \n",
       "2020-01-13   1.0  0.019  0.044  0.048  0.057  0.057  0.069  0.063  0.030   \n",
       "2020-01-14   1.0  0.017  0.045  0.054  0.065  0.056  0.065  0.063  0.072   \n",
       "2020-01-15   1.0  0.016  0.042  0.056  0.057  0.047  0.059  0.073  0.052   \n",
       "2020-01-16   1.0  0.023  0.041  0.048  0.058  0.062  0.070  0.059  0.043   \n",
       "2020-01-17   1.0  0.020  0.035  0.039  0.049  0.048  0.064  0.049  0.051   \n",
       "2020-01-18   1.0  0.031  0.042  0.047  0.051  0.066  0.074  0.070  0.046   \n",
       "2020-01-19   1.0  0.027  0.038  0.043  0.048  0.059  0.069  0.044  0.048   \n",
       "2020-01-20   1.0  0.016  0.038  0.050  0.063  0.065  0.071  0.064  0.047   \n",
       "2020-01-21   1.0  0.029  0.034  0.055  0.057  0.050  0.065  0.061  0.046   \n",
       "2020-01-22   1.0  0.018  0.033  0.047  0.049  0.053  0.068  0.050  0.045   \n",
       "2020-01-23   1.0  0.016  0.038  0.039  0.051  0.062  0.080  0.061  0.049   \n",
       "2020-01-24   1.0  0.018  0.043  0.046  0.046  0.053  0.063  0.054  0.050   \n",
       "2020-01-25   1.0  0.018  0.042  0.043  0.050  0.047  0.072  0.055  0.053   \n",
       "2020-01-26   1.0  0.015  0.044  0.061  0.060  0.070  0.056  0.064  0.052   \n",
       "2020-01-27   1.0  0.017  0.035  0.047  0.054  0.051  0.074  0.053  0.043   \n",
       "2020-01-28   1.0  0.024  0.044  0.051  0.065  0.055  0.064  0.054  0.043   \n",
       "2020-01-29   1.0  0.022  0.041  0.042  0.049  0.061  0.059  0.062  0.048   \n",
       "2020-01-30   1.0  0.020  0.042  0.052  0.053  0.057  0.081  0.058  0.051   \n",
       "\n",
       "days_diff       9      10     11     12     13     14     15  \n",
       "cohort_date                                                   \n",
       "2020-01-10   0.048  0.045  0.052  0.049  0.037  0.038  0.059  \n",
       "2020-01-11   0.053  0.054  0.044  0.048  0.040  0.046  0.040  \n",
       "2020-01-12   0.056  0.043  0.060  0.042  0.037  0.043  0.044  \n",
       "2020-01-13   0.069  0.050  0.047  0.043  0.062  0.048  0.049  \n",
       "2020-01-14   0.041  0.061  0.059  0.055  0.061  0.052  0.049  \n",
       "2020-01-15   0.050  0.043  0.052  0.049  0.057  0.047  0.041  \n",
       "2020-01-16   0.058  0.063  0.050  0.057  0.051  0.037  0.057  \n",
       "2020-01-17   0.039  0.049  0.043  0.039  0.046  0.038  0.040  \n",
       "2020-01-18   0.036  0.059  0.064  0.049  0.051  0.048  0.045  \n",
       "2020-01-19   0.059  0.044  0.038  0.057  0.044  0.040  0.048  \n",
       "2020-01-20   0.058  0.047  0.054  0.054  0.047  0.046  0.051  \n",
       "2020-01-21   0.053  0.066  0.045  0.050  0.045  0.047  0.049  \n",
       "2020-01-22   0.040  0.056  0.045  0.045  0.041  0.052  0.043  \n",
       "2020-01-23   0.049  0.052  0.048  0.054  0.057  0.045  0.035  \n",
       "2020-01-24   0.036  0.053  0.046  0.050  0.042  0.048  0.048  \n",
       "2020-01-25   0.049  0.037  0.054  0.043  0.053  0.042  0.053  \n",
       "2020-01-26   0.051  0.057  0.049  0.056  0.051  0.043  0.050  \n",
       "2020-01-27   0.061  0.042  0.049  0.048  0.045  0.037  0.048  \n",
       "2020-01-28   0.060  0.052  0.052  0.060  0.054  0.039  0.048  \n",
       "2020-01-29   0.043  0.053  0.043  0.057  0.045  0.035  0.048  \n",
       "2020-01-30   0.047  0.053  0.046  0.048  0.050  0.053  0.044  "
      ]
     },
     "execution_count": 17,
     "metadata": {},
     "output_type": "execute_result"
    },
    {
     "data": {
      "image/png": "[encoded data removed]",
      "text/plain": [
       "<Figure size 1440x1080 with 1 Axes>"
      ]
     },
     "metadata": {
      "needs_background": "light"
     },
     "output_type": "display_data"
    }
   ],
   "source": [
    "retention(auth_data, reg_data, '2020-01-10', '2020-01-30', 15)"
   ]
  },
  {
   "cell_type": "markdown",
   "metadata": {},
   "source": [
    "__Вывод:__ самый высокий показатель retention в среднем на 6-й день. Если посмотреть в целом, то показатель возвращаемости игроков низкий. Можно добавить бонусы за ежедневное посещение игры или ежедневного события."
   ]
  },
  {
   "cell_type": "markdown",
   "metadata": {},
   "source": [
    "---"
   ]
  },
  {
   "cell_type": "markdown",
   "metadata": {},
   "source": [
    "# Задание 2    \n",
    "Имеются результаты A/B теста, в котором двум группам пользователей предлагались различные наборы акционных предложений. Известно, что ARPU в тестовой группе выше на 5%, чем в контрольной. При этом в контрольной группе 1928 игроков из 202103 оказались платящими, а в тестовой – 1805 из 202667.\n",
    "\n",
    "Какой набор предложений можно считать лучшим? Какие метрики стоит проанализировать для принятия правильного решения и как?"
   ]
  },
  {
   "cell_type": "markdown",
   "metadata": {},
   "source": [
    "Считаем исходные данные"
   ]
  },
  {
   "cell_type": "code",
   "execution_count": null,
   "metadata": {},
   "outputs": [],
   "source": [
    "df_ab_test = pd.read_csv(f'https://getfile.dokpub.com/yandex/get/https://disk.yandex.ru/d/SOkIsD5A8xlI7Q, sep=';')"
   ]
  },
  {
   "cell_type": "markdown",
   "metadata": {},
   "source": [
    "Посмотрим на получившийся датафрейм и проверим, нет ли пропусков дубликатов, а так же посмотрим описательную статистику revenue."
   ]
  },
  {
   "cell_type": "code",
   "execution_count": 19,
   "metadata": {},
   "outputs": [
    {
     "data": {
      "text/html": [
       "<div>\n",
       "<style scoped>\n",
       "    .dataframe tbody tr th:only-of-type {\n",
       "        vertical-align: middle;\n",
       "    }\n",
       "\n",
       "    .dataframe tbody tr th {\n",
       "        vertical-align: top;\n",
       "    }\n",
       "\n",
       "    .dataframe thead th {\n",
       "        text-align: right;\n",
       "    }\n",
       "</style>\n",
       "<table border=\"1\" class=\"dataframe\">\n",
       "  <thead>\n",
       "    <tr style=\"text-align: right;\">\n",
       "      <th></th>\n",
       "      <th>user_id</th>\n",
       "      <th>revenue</th>\n",
       "      <th>testgroup</th>\n",
       "    </tr>\n",
       "  </thead>\n",
       "  <tbody>\n",
       "    <tr>\n",
       "      <th>0</th>\n",
       "      <td>1</td>\n",
       "      <td>0</td>\n",
       "      <td>b</td>\n",
       "    </tr>\n",
       "    <tr>\n",
       "      <th>1</th>\n",
       "      <td>2</td>\n",
       "      <td>0</td>\n",
       "      <td>a</td>\n",
       "    </tr>\n",
       "    <tr>\n",
       "      <th>2</th>\n",
       "      <td>3</td>\n",
       "      <td>0</td>\n",
       "      <td>a</td>\n",
       "    </tr>\n",
       "    <tr>\n",
       "      <th>3</th>\n",
       "      <td>4</td>\n",
       "      <td>0</td>\n",
       "      <td>b</td>\n",
       "    </tr>\n",
       "    <tr>\n",
       "      <th>4</th>\n",
       "      <td>5</td>\n",
       "      <td>0</td>\n",
       "      <td>b</td>\n",
       "    </tr>\n",
       "  </tbody>\n",
       "</table>\n",
       "</div>"
      ],
      "text/plain": [
       "   user_id  revenue testgroup\n",
       "0        1        0         b\n",
       "1        2        0         a\n",
       "2        3        0         a\n",
       "3        4        0         b\n",
       "4        5        0         b"
      ]
     },
     "execution_count": 19,
     "metadata": {},
     "output_type": "execute_result"
    }
   ],
   "source": [
    "df_ab_test.head(5)"
   ]
  },
  {
   "cell_type": "markdown",
   "metadata": {},
   "source": [
    "Проверим на пропуски и тип данных"
   ]
  },
  {
   "cell_type": "code",
   "execution_count": 20,
   "metadata": {},
   "outputs": [
    {
     "name": "stdout",
     "output_type": "stream",
     "text": [
      "<class 'pandas.core.frame.DataFrame'>\n",
      "RangeIndex: 404770 entries, 0 to 404769\n",
      "Data columns (total 3 columns):\n",
      " #   Column     Non-Null Count   Dtype \n",
      "---  ------     --------------   ----- \n",
      " 0   user_id    404770 non-null  int64 \n",
      " 1   revenue    404770 non-null  int64 \n",
      " 2   testgroup  404770 non-null  object\n",
      "dtypes: int64(2), object(1)\n",
      "memory usage: 9.3+ MB\n"
     ]
    }
   ],
   "source": [
    "df_ab_test.info()"
   ]
  },
  {
   "cell_type": "markdown",
   "metadata": {},
   "source": [
    "Проверим на наличие дубликатов"
   ]
  },
  {
   "cell_type": "code",
   "execution_count": 21,
   "metadata": {},
   "outputs": [
    {
     "data": {
      "text/html": [
       "<div>\n",
       "<style scoped>\n",
       "    .dataframe tbody tr th:only-of-type {\n",
       "        vertical-align: middle;\n",
       "    }\n",
       "\n",
       "    .dataframe tbody tr th {\n",
       "        vertical-align: top;\n",
       "    }\n",
       "\n",
       "    .dataframe thead th {\n",
       "        text-align: right;\n",
       "    }\n",
       "</style>\n",
       "<table border=\"1\" class=\"dataframe\">\n",
       "  <thead>\n",
       "    <tr style=\"text-align: right;\">\n",
       "      <th></th>\n",
       "      <th>user_id</th>\n",
       "      <th>revenue</th>\n",
       "      <th>testgroup</th>\n",
       "    </tr>\n",
       "  </thead>\n",
       "  <tbody>\n",
       "  </tbody>\n",
       "</table>\n",
       "</div>"
      ],
      "text/plain": [
       "Empty DataFrame\n",
       "Columns: [user_id, revenue, testgroup]\n",
       "Index: []"
      ]
     },
     "execution_count": 21,
     "metadata": {},
     "output_type": "execute_result"
    }
   ],
   "source": [
    "df_ab_test.loc[df_ab_test.duplicated()]"
   ]
  },
  {
   "cell_type": "markdown",
   "metadata": {},
   "source": [
    "Посмотрим описательную статистику"
   ]
  },
  {
   "cell_type": "code",
   "execution_count": 22,
   "metadata": {},
   "outputs": [
    {
     "data": {
      "text/plain": [
       "count    404770.000000\n",
       "mean         26.083435\n",
       "std         681.652928\n",
       "min           0.000000\n",
       "25%           0.000000\n",
       "50%           0.000000\n",
       "75%           0.000000\n",
       "max       37433.000000\n",
       "Name: revenue, dtype: float64"
      ]
     },
     "execution_count": 22,
     "metadata": {},
     "output_type": "execute_result"
    }
   ],
   "source": [
    "df_ab_test.revenue.describe()"
   ]
  },
  {
   "cell_type": "markdown",
   "metadata": {},
   "source": [
    "Дубликатов и пропусков нет.\n",
    "Определим, какая группа контрольная, какая тестовая и посмотрим на значения каждой из них"
   ]
  },
  {
   "cell_type": "code",
   "execution_count": 23,
   "metadata": {},
   "outputs": [
    {
     "data": {
      "text/plain": [
       "(202103, 3)"
      ]
     },
     "execution_count": 23,
     "metadata": {},
     "output_type": "execute_result"
    }
   ],
   "source": [
    "df_ab_test.loc[df_ab_test.testgroup == 'a'].shape"
   ]
  },
  {
   "cell_type": "code",
   "execution_count": 24,
   "metadata": {},
   "outputs": [
    {
     "data": {
      "text/plain": [
       "(202667, 3)"
      ]
     },
     "execution_count": 24,
     "metadata": {},
     "output_type": "execute_result"
    }
   ],
   "source": [
    "df_ab_test.loc[df_ab_test.testgroup == 'b'].shape"
   ]
  },
  {
   "cell_type": "markdown",
   "metadata": {},
   "source": [
    "Опираясь на условие, получается, что группа 'а' - контрольная, а группа 'b' - тестовая"
   ]
  },
  {
   "cell_type": "markdown",
   "metadata": {},
   "source": [
    "Разделим данные по группам"
   ]
  },
  {
   "cell_type": "code",
   "execution_count": 25,
   "metadata": {},
   "outputs": [],
   "source": [
    "control_group = df_ab_test.loc[df_ab_test.testgroup == 'a']\n",
    "test_group = df_ab_test.loc[df_ab_test.testgroup == 'b']"
   ]
  },
  {
   "cell_type": "markdown",
   "metadata": {},
   "source": [
    "Посмотрим на распределение в группах"
   ]
  },
  {
   "cell_type": "code",
   "execution_count": 26,
   "metadata": {},
   "outputs": [
    {
     "name": "stderr",
     "output_type": "stream",
     "text": [
      "/opt/tljh/user/lib/python3.7/site-packages/seaborn/distributions.py:2557: FutureWarning: `distplot` is a deprecated function and will be removed in a future version. Please adapt your code to use either `displot` (a figure-level function with similar flexibility) or `histplot` (an axes-level function for histograms).\n",
      "  warnings.warn(msg, FutureWarning)\n"
     ]
    },
    {
     "data": {
      "image/png": "[encoded data removed]",
      "text/plain": [
       "<Figure size 1080x360 with 1 Axes>"
      ]
     },
     "metadata": {
      "needs_background": "light"
     },
     "output_type": "display_data"
    }
   ],
   "source": [
    "plt.figure(figsize=(15, 5))\n",
    "sns.distplot(control_group.revenue)\n",
    "plt.xlabel('Control group')\n",
    "plt.show()"
   ]
  },
  {
   "cell_type": "code",
   "execution_count": 27,
   "metadata": {},
   "outputs": [
    {
     "name": "stderr",
     "output_type": "stream",
     "text": [
      "/opt/tljh/user/lib/python3.7/site-packages/seaborn/distributions.py:2557: FutureWarning: `distplot` is a deprecated function and will be removed in a future version. Please adapt your code to use either `displot` (a figure-level function with similar flexibility) or `histplot` (an axes-level function for histograms).\n",
      "  warnings.warn(msg, FutureWarning)\n"
     ]
    },
    {
     "data": {
      "image/png": "[encoded data removed]",
      "text/plain": [
       "<Figure size 1080x360 with 1 Axes>"
      ]
     },
     "metadata": {
      "needs_background": "light"
     },
     "output_type": "display_data"
    }
   ],
   "source": [
    "plt.figure(figsize=(15, 5))\n",
    "sns.distplot(test_group.revenue, color='green')\n",
    "plt.xlabel('Test group')\n",
    "plt.show()"
   ]
  },
  {
   "cell_type": "markdown",
   "metadata": {},
   "source": [
    "Проверим данные на нормальность распределения "
   ]
  },
  {
   "cell_type": "code",
   "execution_count": 28,
   "metadata": {},
   "outputs": [
    {
     "data": {
      "text/html": [
       "<div>\n",
       "<style scoped>\n",
       "    .dataframe tbody tr th:only-of-type {\n",
       "        vertical-align: middle;\n",
       "    }\n",
       "\n",
       "    .dataframe tbody tr th {\n",
       "        vertical-align: top;\n",
       "    }\n",
       "\n",
       "    .dataframe thead th {\n",
       "        text-align: right;\n",
       "    }\n",
       "</style>\n",
       "<table border=\"1\" class=\"dataframe\">\n",
       "  <thead>\n",
       "    <tr style=\"text-align: right;\">\n",
       "      <th></th>\n",
       "      <th>W</th>\n",
       "      <th>pval</th>\n",
       "      <th>normal</th>\n",
       "    </tr>\n",
       "  </thead>\n",
       "  <tbody>\n",
       "    <tr>\n",
       "      <th>b</th>\n",
       "      <td>326622.395409</td>\n",
       "      <td>0.0</td>\n",
       "      <td>False</td>\n",
       "    </tr>\n",
       "    <tr>\n",
       "      <th>a</th>\n",
       "      <td>585152.731273</td>\n",
       "      <td>0.0</td>\n",
       "      <td>False</td>\n",
       "    </tr>\n",
       "  </tbody>\n",
       "</table>\n",
       "</div>"
      ],
      "text/plain": [
       "               W  pval  normal\n",
       "b  326622.395409   0.0   False\n",
       "a  585152.731273   0.0   False"
      ]
     },
     "execution_count": 28,
     "metadata": {},
     "output_type": "execute_result"
    }
   ],
   "source": [
    "pg.normality(df_ab_test, dv='revenue', group='testgroup', method='normaltest')"
   ]
  },
  {
   "cell_type": "markdown",
   "metadata": {},
   "source": [
    "Распределения не нормальные"
   ]
  },
  {
   "cell_type": "markdown",
   "metadata": {},
   "source": [
    "Отбираем пользователей, которые совершали покупки (revenue > 0)"
   ]
  },
  {
   "cell_type": "code",
   "execution_count": 29,
   "metadata": {},
   "outputs": [],
   "source": [
    "control = control_group.loc[control_group.revenue > 0]\n",
    "test = test_group.loc[test_group.revenue > 0]"
   ]
  },
  {
   "cell_type": "code",
   "execution_count": 30,
   "metadata": {},
   "outputs": [
    {
     "name": "stderr",
     "output_type": "stream",
     "text": [
      "/opt/tljh/user/lib/python3.7/site-packages/seaborn/distributions.py:2557: FutureWarning: `distplot` is a deprecated function and will be removed in a future version. Please adapt your code to use either `displot` (a figure-level function with similar flexibility) or `histplot` (an axes-level function for histograms).\n",
      "  warnings.warn(msg, FutureWarning)\n"
     ]
    },
    {
     "data": {
      "image/png": "[encoded data removed]",
      "text/plain": [
       "<Figure size 1080x360 with 1 Axes>"
      ]
     },
     "metadata": {
      "needs_background": "light"
     },
     "output_type": "display_data"
    }
   ],
   "source": [
    "plt.figure(figsize=(15, 5))\n",
    "sns.distplot(control.revenue)\n",
    "plt.xlabel('Control group')\n",
    "plt.show()"
   ]
  },
  {
   "cell_type": "code",
   "execution_count": 31,
   "metadata": {},
   "outputs": [
    {
     "name": "stderr",
     "output_type": "stream",
     "text": [
      "/opt/tljh/user/lib/python3.7/site-packages/seaborn/distributions.py:2557: FutureWarning: `distplot` is a deprecated function and will be removed in a future version. Please adapt your code to use either `displot` (a figure-level function with similar flexibility) or `histplot` (an axes-level function for histograms).\n",
      "  warnings.warn(msg, FutureWarning)\n"
     ]
    },
    {
     "data": {
      "image/png": "[encoded data removed]",
      "text/plain": [
       "<Figure size 1080x360 with 1 Axes>"
      ]
     },
     "metadata": {
      "needs_background": "light"
     },
     "output_type": "display_data"
    }
   ],
   "source": [
    "plt.figure(figsize=(15, 5))\n",
    "sns.distplot(test.revenue, color='green')\n",
    "plt.xlabel('Test group')\n",
    "plt.show()"
   ]
  },
  {
   "cell_type": "code",
   "execution_count": 32,
   "metadata": {},
   "outputs": [
    {
     "name": "stderr",
     "output_type": "stream",
     "text": [
      "/opt/tljh/user/lib/python3.7/site-packages/seaborn/distributions.py:2557: FutureWarning: `distplot` is a deprecated function and will be removed in a future version. Please adapt your code to use either `displot` (a figure-level function with similar flexibility) or `histplot` (an axes-level function for histograms).\n",
      "  warnings.warn(msg, FutureWarning)\n",
      "/opt/tljh/user/lib/python3.7/site-packages/seaborn/distributions.py:2557: FutureWarning: `distplot` is a deprecated function and will be removed in a future version. Please adapt your code to use either `displot` (a figure-level function with similar flexibility) or `histplot` (an axes-level function for histograms).\n",
      "  warnings.warn(msg, FutureWarning)\n"
     ]
    },
    {
     "data": {
      "image/png": "[encoded data removed]",
      "text/plain": [
       "<Figure size 1080x360 with 1 Axes>"
      ]
     },
     "metadata": {
      "needs_background": "light"
     },
     "output_type": "display_data"
    }
   ],
   "source": [
    "plt.figure(figsize=(15, 5))\n",
    "sns.distplot(test.revenue, color='green') # тестовая группа\n",
    "sns.distplot(control.revenue) # контрольная группа\n",
    "plt.show()"
   ]
  },
  {
   "cell_type": "markdown",
   "metadata": {},
   "source": [
    "Согласно графикам в обеих группах распределение не нормальное"
   ]
  },
  {
   "cell_type": "markdown",
   "metadata": {},
   "source": [
    "Проверим расчетами распределение на нормальность для покупателей, совершивших покупки:"
   ]
  },
  {
   "cell_type": "code",
   "execution_count": 33,
   "metadata": {},
   "outputs": [
    {
     "data": {
      "text/html": [
       "<div>\n",
       "<style scoped>\n",
       "    .dataframe tbody tr th:only-of-type {\n",
       "        vertical-align: middle;\n",
       "    }\n",
       "\n",
       "    .dataframe tbody tr th {\n",
       "        vertical-align: top;\n",
       "    }\n",
       "\n",
       "    .dataframe thead th {\n",
       "        text-align: right;\n",
       "    }\n",
       "</style>\n",
       "<table border=\"1\" class=\"dataframe\">\n",
       "  <thead>\n",
       "    <tr style=\"text-align: right;\">\n",
       "      <th></th>\n",
       "      <th>W</th>\n",
       "      <th>pval</th>\n",
       "      <th>normal</th>\n",
       "    </tr>\n",
       "  </thead>\n",
       "  <tbody>\n",
       "    <tr>\n",
       "      <th>a</th>\n",
       "      <td>1394.945784</td>\n",
       "      <td>1.234161e-303</td>\n",
       "      <td>False</td>\n",
       "    </tr>\n",
       "    <tr>\n",
       "      <th>b</th>\n",
       "      <td>1068.860008</td>\n",
       "      <td>7.943249e-233</td>\n",
       "      <td>False</td>\n",
       "    </tr>\n",
       "  </tbody>\n",
       "</table>\n",
       "</div>"
      ],
      "text/plain": [
       "             W           pval  normal\n",
       "a  1394.945784  1.234161e-303   False\n",
       "b  1068.860008  7.943249e-233   False"
      ]
     },
     "execution_count": 33,
     "metadata": {},
     "output_type": "execute_result"
    }
   ],
   "source": [
    "pg.normality(df_ab_test.loc[df_ab_test.revenue > 0], dv='revenue', group='testgroup', method='normaltest')"
   ]
  },
  {
   "cell_type": "markdown",
   "metadata": {},
   "source": [
    "Проверим гомоскедастичность дисперсий с помощью критерия Левена"
   ]
  },
  {
   "cell_type": "code",
   "execution_count": 34,
   "metadata": {},
   "outputs": [
    {
     "data": {
      "text/html": [
       "<div>\n",
       "<style scoped>\n",
       "    .dataframe tbody tr th:only-of-type {\n",
       "        vertical-align: middle;\n",
       "    }\n",
       "\n",
       "    .dataframe tbody tr th {\n",
       "        vertical-align: top;\n",
       "    }\n",
       "\n",
       "    .dataframe thead th {\n",
       "        text-align: right;\n",
       "    }\n",
       "</style>\n",
       "<table border=\"1\" class=\"dataframe\">\n",
       "  <thead>\n",
       "    <tr style=\"text-align: right;\">\n",
       "      <th></th>\n",
       "      <th>W</th>\n",
       "      <th>pval</th>\n",
       "      <th>equal_var</th>\n",
       "    </tr>\n",
       "  </thead>\n",
       "  <tbody>\n",
       "    <tr>\n",
       "      <th>levene</th>\n",
       "      <td>80.855674</td>\n",
       "      <td>3.779690e-19</td>\n",
       "      <td>False</td>\n",
       "    </tr>\n",
       "  </tbody>\n",
       "</table>\n",
       "</div>"
      ],
      "text/plain": [
       "                W          pval  equal_var\n",
       "levene  80.855674  3.779690e-19      False"
      ]
     },
     "execution_count": 34,
     "metadata": {},
     "output_type": "execute_result"
    }
   ],
   "source": [
    "pg.homoscedasticity(data=df_ab_test.loc[df_ab_test.revenue > 0], dv='revenue', group='testgroup')"
   ]
  },
  {
   "cell_type": "markdown",
   "metadata": {},
   "source": [
    "Графики и расчеты подтверждают, что распределения в обеих группах не нормальные и не гомоскедастичны"
   ]
  },
  {
   "cell_type": "markdown",
   "metadata": {},
   "source": [
    "Посмотрим на такие метрики, как среднее значение, медиану, конверсию, ARPU и ARPPU"
   ]
  },
  {
   "cell_type": "code",
   "execution_count": 35,
   "metadata": {},
   "outputs": [
    {
     "data": {
      "text/html": [
       "<div>\n",
       "<style scoped>\n",
       "    .dataframe tbody tr th:only-of-type {\n",
       "        vertical-align: middle;\n",
       "    }\n",
       "\n",
       "    .dataframe tbody tr th {\n",
       "        vertical-align: top;\n",
       "    }\n",
       "\n",
       "    .dataframe thead th {\n",
       "        text-align: right;\n",
       "    }\n",
       "</style>\n",
       "<table border=\"1\" class=\"dataframe\">\n",
       "  <thead>\n",
       "    <tr style=\"text-align: right;\">\n",
       "      <th></th>\n",
       "      <th>test</th>\n",
       "      <th>control</th>\n",
       "    </tr>\n",
       "  </thead>\n",
       "  <tbody>\n",
       "    <tr>\n",
       "      <th>Mean</th>\n",
       "      <td>3003.66</td>\n",
       "      <td>2664.00</td>\n",
       "    </tr>\n",
       "    <tr>\n",
       "      <th>Median</th>\n",
       "      <td>3022.00</td>\n",
       "      <td>311.00</td>\n",
       "    </tr>\n",
       "    <tr>\n",
       "      <th>Conversion</th>\n",
       "      <td>0.89</td>\n",
       "      <td>0.95</td>\n",
       "    </tr>\n",
       "    <tr>\n",
       "      <th>ARPU</th>\n",
       "      <td>26.75</td>\n",
       "      <td>25.41</td>\n",
       "    </tr>\n",
       "    <tr>\n",
       "      <th>ARPPU</th>\n",
       "      <td>3003.66</td>\n",
       "      <td>2664.00</td>\n",
       "    </tr>\n",
       "  </tbody>\n",
       "</table>\n",
       "</div>"
      ],
      "text/plain": [
       "               test  control\n",
       "Mean        3003.66  2664.00\n",
       "Median      3022.00   311.00\n",
       "Conversion     0.89     0.95\n",
       "ARPU          26.75    25.41\n",
       "ARPPU       3003.66  2664.00"
      ]
     },
     "execution_count": 35,
     "metadata": {},
     "output_type": "execute_result"
    }
   ],
   "source": [
    "metrics = pd.DataFrame(columns=['test', 'control'])\n",
    "\n",
    "#Среднее   \n",
    "test_mean = test.revenue.mean()\n",
    "control_mean = control.revenue.mean()\n",
    "metrics = metrics.append({'test':test_mean,'control':control_mean}, ignore_index=True)\n",
    "\n",
    "#Медиана\n",
    "test_median = np.median(test['revenue'])\n",
    "control_median = np.median(control['revenue'])\n",
    "metrics = metrics.append({'test':test_median,'control':control_median}, ignore_index=True)\n",
    "\n",
    "#Конверсия\n",
    "test_conv = (test.shape[0]/test_group.shape[0])*100\n",
    "control_conv = (control.shape[0]/control_group.shape[0])*100\n",
    "metrics = metrics.append({'test':test_conv,'control':control_conv}, ignore_index=True)\n",
    "\n",
    "#ARPU\n",
    "test_arpu = test_group.revenue.sum()/test_group.shape[0]\n",
    "control_arpu = control_group.revenue.sum()/control_group.shape[0]\n",
    "metrics = metrics.append({'test':test_arpu,'control':control_arpu}, ignore_index=True)\n",
    "\n",
    "#ARPPU\n",
    "test_arppu = test.revenue.sum()/test.shape[0]\n",
    "control_arppu = control.revenue.sum()/control.shape[0]\n",
    "metrics = metrics.append({'test':test_arppu,'control':control_arppu}, ignore_index=True) \n",
    "\n",
    "new_index = ['Mean', 'Median', 'Conversion', 'ARPU', 'ARPPU']\n",
    "metrics.index = new_index\n",
    "\n",
    "metrics.apply(lambda x : round(x, 2))"
   ]
  },
  {
   "cell_type": "markdown",
   "metadata": {},
   "source": [
    "Т.к. обе группы не имеют нормального распределения и нет гомоскедастичности, и, с учетом того, чтобы бизнесу было легче объяснить результаты исследования, для сравнения будем использовать bootstrap (с mean). "
   ]
  },
  {
   "cell_type": "markdown",
   "metadata": {},
   "source": [
    "Гипотезы:    \n",
    "Н0 - разница в средних значениях в обоих группах отсутствует (при p > 0.05)    \n",
    "Н1 - разница есть (при p < 0.05)"
   ]
  },
  {
   "cell_type": "code",
   "execution_count": 36,
   "metadata": {},
   "outputs": [],
   "source": [
    "def get_bootstrap(\n",
    "    data_column_1,\n",
    "    data_column_2,\n",
    "    boot_it=1000, \n",
    "    statistic=np.mean,\n",
    "    bootstrap_conf_level=0.95\n",
    "):\n",
    "    boot_data = []\n",
    "    for i in tqdm(range(boot_it)): \n",
    "        samples_1 = data_column_1.sample(\n",
    "            len(data_column_1), \n",
    "            replace=True \n",
    "        ).values\n",
    "        \n",
    "        samples_2 = data_column_2.sample(\n",
    "            len(data_column_1), \n",
    "            replace=True\n",
    "        ).values\n",
    "\n",
    "        '''mean() - применяем статистику'''\n",
    "        boot_data.append(statistic(samples_1) - statistic(samples_2)) \n",
    "        \n",
    "    pd_boot_data = pd.DataFrame(boot_data)\n",
    "        \n",
    "    left_quant = (1 - bootstrap_conf_level) / 2\n",
    "    right_quant = 1 - (1 - bootstrap_conf_level) / 2\n",
    "    quants = pd_boot_data.quantile([left_quant, right_quant])\n",
    "        \n",
    "    p_1 = norm.cdf(\n",
    "        x=0, \n",
    "        loc=np.mean(boot_data), \n",
    "        scale=np.std(boot_data)\n",
    "    )\n",
    "    p_2 = norm.cdf(\n",
    "        x=0, \n",
    "        loc=-np.mean(boot_data), \n",
    "        scale=np.std(boot_data)\n",
    "    )\n",
    "    p_value = min(p_1, p_2) * 2\n",
    "        \n",
    "    '''Визуализация '''\n",
    "    _, _, bars = plt.hist(pd_boot_data[0], bins=50)\n",
    "    for bar in bars:\n",
    "        if bar.get_x() <= quants.iloc[0][0] or bar.get_x() >= quants.iloc[1][0]:\n",
    "            bar.set_facecolor('red')\n",
    "        else: \n",
    "            bar.set_facecolor('grey')\n",
    "            bar.set_edgecolor('black')\n",
    "    \n",
    "    plt.style.use('ggplot')\n",
    "    plt.vlines(quants, ymin=0, ymax=50, linestyle='--')\n",
    "    plt.xlabel('boot_data')\n",
    "    plt.ylabel('frequency')\n",
    "    plt.title(\"Histogram of boot_data\")\n",
    "    plt.show()\n",
    "       \n",
    "    return {\"boot_data\": boot_data, \n",
    "            \"quants\": quants, \n",
    "            \"p_value\": p_value}"
   ]
  },
  {
   "cell_type": "markdown",
   "metadata": {},
   "source": [
    "Применим функцию bootstrap'a"
   ]
  },
  {
   "cell_type": "code",
   "execution_count": 37,
   "metadata": {},
   "outputs": [
    {
     "data": {
      "application/vnd.jupyter.widget-view+json": {
       "model_id": "cfb7bc4ce1644e4d9116202e8fe82c14",
       "version_major": 2,
       "version_minor": 0
      },
      "text/plain": [
       "HBox(children=(FloatProgress(value=0.0, max=1000.0), HTML(value='')))"
      ]
     },
     "metadata": {},
     "output_type": "display_data"
    },
    {
     "name": "stdout",
     "output_type": "stream",
     "text": [
      "\n"
     ]
    },
    {
     "data": {
      "image/png": "[encoded data removed]",
      "text/plain": [
       "<Figure size 432x288 with 1 Axes>"
      ]
     },
     "metadata": {
      "needs_background": "light"
     },
     "output_type": "display_data"
    }
   ],
   "source": [
    "booted_data = get_bootstrap(control.revenue, test.revenue)"
   ]
  },
  {
   "cell_type": "code",
   "execution_count": 38,
   "metadata": {},
   "outputs": [
    {
     "data": {
      "text/plain": [
       "0.09484409579553205"
      ]
     },
     "execution_count": 38,
     "metadata": {},
     "output_type": "execute_result"
    }
   ],
   "source": [
    "booted_data[\"p_value\"]"
   ]
  },
  {
   "cell_type": "code",
   "execution_count": 39,
   "metadata": {},
   "outputs": [
    {
     "data": {
      "text/html": [
       "<div>\n",
       "<style scoped>\n",
       "    .dataframe tbody tr th:only-of-type {\n",
       "        vertical-align: middle;\n",
       "    }\n",
       "\n",
       "    .dataframe tbody tr th {\n",
       "        vertical-align: top;\n",
       "    }\n",
       "\n",
       "    .dataframe thead th {\n",
       "        text-align: right;\n",
       "    }\n",
       "</style>\n",
       "<table border=\"1\" class=\"dataframe\">\n",
       "  <thead>\n",
       "    <tr style=\"text-align: right;\">\n",
       "      <th></th>\n",
       "      <th>0</th>\n",
       "    </tr>\n",
       "  </thead>\n",
       "  <tbody>\n",
       "    <tr>\n",
       "      <th>0.025</th>\n",
       "      <td>-730.825337</td>\n",
       "    </tr>\n",
       "    <tr>\n",
       "      <th>0.975</th>\n",
       "      <td>63.243309</td>\n",
       "    </tr>\n",
       "  </tbody>\n",
       "</table>\n",
       "</div>"
      ],
      "text/plain": [
       "                0\n",
       "0.025 -730.825337\n",
       "0.975   63.243309"
      ]
     },
     "execution_count": 39,
     "metadata": {},
     "output_type": "execute_result"
    }
   ],
   "source": [
    "booted_data[\"quants\"]"
   ]
  },
  {
   "cell_type": "markdown",
   "metadata": {},
   "source": [
    "__Вывод:__ Т.к. по результатам теста - 0 входит в доверительный интервал и значение p.val > 0.05, значит причин отклонять нулевую гипотезу у нас нет.\n",
    "Для оценки статистической значимости различий в группах лучше всего использовать метрику ARPPU, так как пользователей не совершавщих покупку слишком много. Исходя из данных, для статистического теста мы использовали метод bootsprap, отобрав из выборок данные только по платившим пользователям. По результатам теста мы не можем отклонить нулевую гипотезу, о том, что различий между группами не обнаружено, однако, судя по распределению выборок в тестовой группе основная часть пользователей приносит больше выручки, чем в контрольной, а в контрольной группе есть существенные выбросы. Возможно, необходимо перепроверить систему сплитования и заново провести тест.     \n",
    "Если предположить, что данные верные, то я бы рассуждала в таком ключе: в тестовой и контрольной группе нет стат. различий, но имеются существенные различия в медианах (311 против 3022), в контрольной группе два типа клиентов (группа с большой суммой покупки и группа с недорогими покупками), а в тестовой группе более стабильные покупки, нет таких перекосов.\n",
    "Если отвечать на вопрос, какой вариант лучше, то все зависит от стратегии самой компании. Как аналитик, я могу сказать, что\n",
    "-контрольная группа - подразумевает работу с 2 группами клиентов-вип и простые покупатели, а это, соответственно, говорит о том, что компании необходимо будет разрабатывать предложения для 2 абсолютно разных целевых аудиторий. Уход любого крупного клиента ударит по выручке\n",
    "-тестовая группа- клиенты примерно равны, подход к ним, скорее всего, нужен схожий. Уход клиента не так катастрофичен для компании.\n",
    "Решение необходимо принимать руководству, исходя из их стратегии на рынке. Если бы я выбирала, то выбрала бы второй вариант (тестовая групппа), т.к. он менее рискованный и, возможно, менее затратный."
   ]
  },
  {
   "cell_type": "markdown",
   "metadata": {},
   "source": [
    "---"
   ]
  },
  {
   "cell_type": "markdown",
   "metadata": {},
   "source": [
    "# Задание 3    \n",
    "В игре Plants & Gardens каждый месяц проводятся тематические события, ограниченные по времени. В них игроки могут получить уникальные предметы для сада и персонажей, дополнительные монеты или бонусы. Для получения награды требуется пройти ряд уровней за определенное время. С помощью каких метрик можно оценить результаты последнего прошедшего события?\n",
    "\n",
    "Предположим, в другом событии мы усложнили механику событий так, что при каждой неудачной попытке выполнения уровня игрок будет откатываться на несколько уровней назад. Изменится ли набор метрик оценки результата? Если да, то как?"
   ]
  },
  {
   "cell_type": "markdown",
   "metadata": {},
   "source": [
    "__По первому вопросу:__    \n",
    "Конверсия (CR) — отношение числа пользователей, которые выполнили какое-либо целевое действие к общему числу \n",
    "пользователей в тематические и обычные дни  \n",
    "Retention - удержание пользователя в определенные дни (например, на 7-й, 14-й, 21-й) с учетом тематического события     \n",
    "DAU, WAU, MAU - количество уникальных пользователей за сутки/неделю/месяц в тематические и в обычные дни   \n",
    "ARPU и ARPPU - отслеживание транзакций во время события для получения дополнительных наград"
   ]
  },
  {
   "cell_type": "markdown",
   "metadata": {},
   "source": [
    "__По второму вопросу:__    \n",
    "Churn rate - как изменился отток клиентов после неудачной попытки    \n",
    "Среднее количество неудачных попыток на пользователя    \n",
    "Уровень, на котором происходит наибольший отток клиентов    \n",
    "Количество удалений игры после понижения уровня    \n",
    "Сравнение среднего времени нахождения в игре до внесения изменений и после внесения изменений"
   ]
  },
  {
   "cell_type": "code",
   "execution_count": null,
   "metadata": {},
   "outputs": [],
   "source": []
  },
  {
   "cell_type": "code",
   "execution_count": null,
   "metadata": {},
   "outputs": [],
   "source": []
  }
 ],
 "metadata": {
  "kernelspec": {
   "display_name": "Python 3.9.12 ('base')",
   "language": "python",
   "name": "python3"
  },
  "language_info": {
   "codemirror_mode": {
    "name": "ipython",
    "version": 3
   },
   "file_extension": ".py",
   "mimetype": "text/x-python",
   "name": "python",
   "nbconvert_exporter": "python",
   "pygments_lexer": "ipython3",
   "version": "3.9.12"
  },
  "vscode": {
   "interpreter": {
    "hash": "ad2bdc8ecc057115af97d19610ffacc2b4e99fae6737bb82f5d7fb13d2f2c186"
   }
  }
 },
 "nbformat": 4,
 "nbformat_minor": 4
}
